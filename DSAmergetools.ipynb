{
 "cells": [
  {
   "cell_type": "code",
   "execution_count": null,
   "id": "a499ea05",
   "metadata": {},
   "outputs": [],
   "source": [
    "def trim_duplicates(inu):\n",
    "    k=\"\"\n",
    "    for i in inu:\n",
    "        if i in k:\n",
    "            continue\n",
    "        else:\n",
    "            k=k+i\n",
    "    return k\n",
    "# trim_duplicates(inu)\n",
    "\n",
    "def merge_the_tools(string, k):\n",
    "    tlist=[]\n",
    "    l=len(string)\n",
    "    i=0\n",
    "    setlist=[]\n",
    "    for i in range(0,l,i+k):\n",
    "        t=string[i:(k+i)]\n",
    "        tlist.append(t)\n",
    "        print(trim_duplicates(t))\n",
    "if __name__ == '__main__':\n",
    "    string = \"AABCAAADA\"\n",
    "    k=int(3)\n",
    "    merge_the_tools(string, k)"
   ]
  }
 ],
 "metadata": {
  "kernelspec": {
   "display_name": "Python 3 (ipykernel)",
   "language": "python",
   "name": "python3"
  },
  "language_info": {
   "codemirror_mode": {
    "name": "ipython",
    "version": 3
   },
   "file_extension": ".py",
   "mimetype": "text/x-python",
   "name": "python",
   "nbconvert_exporter": "python",
   "pygments_lexer": "ipython3",
   "version": "3.11.5"
  }
 },
 "nbformat": 4,
 "nbformat_minor": 5
}
